{
  "nbformat": 4,
  "nbformat_minor": 0,
  "metadata": {
    "colab": {
      "private_outputs": true,
      "provenance": []
    },
    "kernelspec": {
      "name": "python3",
      "display_name": "Python 3"
    },
    "language_info": {
      "name": "python"
    }
  },
  "cells": [
    {
      "cell_type": "markdown",
      "source": [
        "python basic\n",
        "# New section"
      ],
      "metadata": {
        "id": "8P0sni3LzM7D"
      }
    },
    {
      "cell_type": "markdown",
      "source": [
        "1 What is Python, and why is it popular.\n",
        "\n",
        "->python is an interpreted programming language and it is easy to use,and it has lot of active community ,it has vast number of library"
      ],
      "metadata": {
        "id": "uvZyFsREzPpU"
      }
    },
    {
      "cell_type": "markdown",
      "source": [
        "2 What is an interpreter in Python?\n",
        "\n",
        "->an python interpreter is an software program which convert source code to machine level code line by line, so that it is easy to debug,the any error occurred it stop at that line only instead of executing the entite code,this code can run on any machine which has python interpreter install"
      ],
      "metadata": {
        "id": "WH-JMRuDzP_2"
      }
    },
    {
      "cell_type": "markdown",
      "source": [
        "3 What are pre-defined keywords in Python\n",
        "\n",
        "->keywords are the 35 reserve words that are you used the develop logicand cannot used as variable name ex,breah,continue,if,else,elif,range,for,while,and,or,not,true,false,def,return,class etc"
      ],
      "metadata": {
        "id": "J-xUvS1d76lO"
      }
    },
    {
      "cell_type": "markdown",
      "source": [
        "4 Can keywords be used as variable names\n",
        "\n",
        "->no,we can used keywords as variables name bez keywords has pre-defined meaning and using that as a variables name can problematic and confusing and it may through an error"
      ],
      "metadata": {
        "id": "PIivZ_-Y76qV"
      }
    },
    {
      "cell_type": "markdown",
      "source": [
        "5 What is mutability in Python\n",
        "\n",
        "->mutability in python means the value in date structure which we can change, ex list,dictionary\n"
      ],
      "metadata": {
        "id": "XSIT0mrF76yR"
      }
    },
    {
      "cell_type": "markdown",
      "source": [
        "6.Why are lists mutable, but tuples are immutable\n",
        "\n",
        "->because list are used for flexibility we can add,remove and change the data but in tuples their is an fixed collection which improves performance the list requires dynamic memory allocation which can reduce the efficiency of the code but in tuples are store more efficiently which faster"
      ],
      "metadata": {
        "id": "8jYewwrs762P"
      }
    },
    {
      "cell_type": "markdown",
      "source": [
        "7.What is the difference between “==” and “is” operators in Python\n",
        "\n",
        "-> both an comparison operator \"==\" it compares the value only and \"is\" it compare the same memory location ,\"==\" it compare two variables contains same value do not care about where it is store in an memory,\"is\" refers to it should\n",
        "point to same memory location"
      ],
      "metadata": {
        "id": "gFs58Tj1764Y"
      }
    },
    {
      "cell_type": "markdown",
      "source": [
        "8. What are logical operators in Python\n",
        "\n",
        "->logical operator are and,or,not which in return give boolean value (true or false)"
      ],
      "metadata": {
        "id": "ihePDYOsCfOE"
      }
    },
    {
      "cell_type": "markdown",
      "source": [
        "9. What is type casting in Python\n",
        "\n",
        "->when we change one date type in another ex int to float,int to string by the help of type function it is very while writing efficient code"
      ],
      "metadata": {
        "id": "GaERYS9gCfYf"
      }
    },
    {
      "cell_type": "markdown",
      "source": [
        "10 What is the difference between implicit and explicit type casting\n",
        "\n",
        "->implicit says python has automatically detected that which type of data type it is explicate means when we type caste any datatype"
      ],
      "metadata": {
        "id": "AXHg4uWoCfaX"
      }
    },
    {
      "cell_type": "markdown",
      "source": [
        "11. What is the purpose of conditional statements in Python\n",
        "\n",
        "->if the condition satisfy then an then only the print the inner statement\n",
        "it is decision making statements"
      ],
      "metadata": {
        "id": "TsKuJxlsCfcZ"
      }
    },
    {
      "cell_type": "markdown",
      "source": [
        "12.How does the elif statement work\n",
        "\n",
        "->if the else condition is true then it will enter in again if part which is nested elseif"
      ],
      "metadata": {
        "id": "I11oVN-cCfeR"
      }
    },
    {
      "cell_type": "markdown",
      "source": [
        "13. What is the difference between for and while loops\n",
        "\n",
        "->for loops when you know how many time you want run the loop we know the end\n",
        "while runs untill the condition is true when you don't know how many times the loop should run"
      ],
      "metadata": {
        "id": "FOoxg0hgCfgQ"
      }
    },
    {
      "cell_type": "markdown",
      "source": [
        "14. Describe a scenario where a while loop is more suitable than a for loop.\n",
        "\n",
        "->in switch case statement until you press the out of loop button the loop will run infinitely"
      ],
      "metadata": {
        "id": "co5Ro4HsCfiN"
      }
    },
    {
      "cell_type": "markdown",
      "source": [
        "**Practical** **Questions**"
      ],
      "metadata": {
        "id": "SYloYBg5CfkP"
      }
    },
    {
      "cell_type": "code",
      "source": [
        "#1.48 Write a Python program to print \"Hello, World!y\n",
        "print(\"Hello, World!\")"
      ],
      "metadata": {
        "id": "SmTjAJDymPGU"
      },
      "execution_count": null,
      "outputs": []
    },
    {
      "cell_type": "code",
      "source": [
        "#2 Write a Python program that displays your name and age8\n",
        "print(\"my name is harshada\")\n",
        "print(\"my age is 20\")"
      ],
      "metadata": {
        "id": "ZBJR3cG4mPIQ"
      },
      "execution_count": null,
      "outputs": []
    },
    {
      "cell_type": "code",
      "source": [
        "#3.Write code to print all the pre-defined keywords in Python using the keyword library8\n",
        "import keyword\n",
        "\n",
        "print(keyword.kwlist)"
      ],
      "metadata": {
        "id": "yRYdHhUZmPMN"
      },
      "execution_count": null,
      "outputs": []
    },
    {
      "cell_type": "code",
      "source": [
        "#4 Write a program that checks if a given word is a Python keyword.\n",
        "import keyword\n",
        "word=input(\"enter word : \")\n",
        "if word in keyword.kwlist:\n",
        "  print(\"it is an keyword \")\n",
        "else:\n",
        "  print(\"it is not an keyword\")\n"
      ],
      "metadata": {
        "id": "gRKu3pprmPOE"
      },
      "execution_count": null,
      "outputs": []
    },
    {
      "cell_type": "code",
      "source": [
        "#5. Create a list and tuple in Python, and demonstrate how attempting to change an element works differently\n",
        "list_1=[1,2,\"harhsa\",2.3]\n",
        "print(list_1)\n",
        "list_1[1]=3.4\n",
        "print(list_1)\n",
        "tuple_1=(1,2,\"wagh\",4.4)\n",
        "print(tuple_1)\n",
        "tuple_1[1]=3.4\n",
        "print(tuple_1)\n"
      ],
      "metadata": {
        "id": "ZWv8dbo8mPQB"
      },
      "execution_count": null,
      "outputs": []
    },
    {
      "cell_type": "code",
      "source": [
        "#6. Write a function to demonstrate the behavior of mutable and immutable arguments\n",
        "def change(a,b):\n",
        "  a=a+1\n",
        "  b.append(3)\n",
        "  print(a,b)\n",
        "a=3        # int is immutable bez in function it changes its value but in main function it didn't\n",
        "b=[2,3,4]  # list is mutable in function it append 3 in main alse it replicate\n",
        "change(a,b)\n",
        "print(a,b)"
      ],
      "metadata": {
        "id": "HYJ25vMVmPS9"
      },
      "execution_count": null,
      "outputs": []
    },
    {
      "cell_type": "code",
      "source": [],
      "metadata": {
        "id": "x6dp8MHm1ZWK"
      },
      "execution_count": null,
      "outputs": []
    },
    {
      "cell_type": "code",
      "source": [
        "#7. Write a program that performs basic arithmetic operations on two user-input numbers.\n",
        "a=int(input(\"enter first number :\"))\n",
        "b=int(input(\"enter second number : \"))\n",
        "print(a+b)\n",
        "print(a-b)\n",
        "print(a*b)\n",
        "print(a/b)\n",
        "print(a//b)\n",
        "print(a%b)\n",
        "print(a^b)\n",
        "print(a**b)"
      ],
      "metadata": {
        "id": "zkuwZkFey85o"
      },
      "execution_count": null,
      "outputs": []
    },
    {
      "cell_type": "code",
      "source": [
        "#8. Write a program to demonstrate the use of logical operators.\n",
        "a=3\n",
        "b=5\n",
        "if(a>0 and b>0):\n",
        "  print(\"the number is positive\")\n",
        "  if(a%2==0 or b%2==0):\n",
        "    print(\"the either number is divisible by 2\")\n",
        "  else:\n",
        "    print(\"none is divisible by 2\")\n",
        "else:\n",
        "  print(\"the numbes are negative\")\n",
        "\n"
      ],
      "metadata": {
        "id": "jfQ7o22xy87h"
      },
      "execution_count": null,
      "outputs": []
    },
    {
      "cell_type": "code",
      "source": [
        "#9. Write a Python program to convert user input from string to integer, float, and boolean types\n",
        "a=input(\"enter a number\")\n",
        "a=int(a)\n",
        "print(a)\n",
        "f=float(a)\n",
        "print(f)\n",
        "b=bool(a)\n",
        "print(b)"
      ],
      "metadata": {
        "id": "TeGWr_Bly89W"
      },
      "execution_count": null,
      "outputs": []
    },
    {
      "cell_type": "code",
      "source": [
        "#10. Write code to demonstrate type casting with list elements.\n",
        "l=[2,4,\"harsha\",7.8]\n",
        "int(l[3])\n",
        "print(l)\n"
      ],
      "metadata": {
        "id": "yXaoRfB8y9Ab"
      },
      "execution_count": null,
      "outputs": []
    },
    {
      "cell_type": "code",
      "source": [
        "#11. Write a program that checks if a number is positive, negative, or zero.\n",
        "a=int(input(\"enter an number: \"))\n",
        "if(a!=0):\n",
        "  if(a>0):\n",
        "    print(\"enter number is positive\")\n",
        "  else:\n",
        "    print(\"the number is negative\")\n",
        "else:\n",
        "  print(\"the numeber is 0\")\n"
      ],
      "metadata": {
        "id": "UmZHbO3l5vYg"
      },
      "execution_count": null,
      "outputs": []
    },
    {
      "cell_type": "code",
      "source": [
        "# 12. Write a for loop to print numbers from 1 to 10\n",
        "for i in range(1,11):\n",
        "  print(i,end=\" \")"
      ],
      "metadata": {
        "id": "fWA8ezlr5vcA"
      },
      "execution_count": null,
      "outputs": []
    },
    {
      "cell_type": "code",
      "source": [
        "#13. Write a Python program to find the sum of all even numbers between 1 and 50\n",
        "sum=0\n",
        "for i in range(1,51):\n",
        "  if(i%2==0):\n",
        "    sum=sum+i\n",
        "print(\"the sum is:\",sum)"
      ],
      "metadata": {
        "id": "eDb0P5sA5ve8"
      },
      "execution_count": null,
      "outputs": []
    },
    {
      "cell_type": "code",
      "source": [
        "# 14. Write a program to reverse a string using a while loop\n",
        "s=\"sai\"\n",
        "idx=len(s)-1\n",
        "rev=\"\"\n",
        "while(idx>=0):\n",
        "  rev=rev+s[idx]\n",
        "  idx -= 1\n",
        "print(rev)"
      ],
      "metadata": {
        "id": "XbW-GBCp5vho"
      },
      "execution_count": null,
      "outputs": []
    },
    {
      "cell_type": "code",
      "source": [
        "# 15. Write a Python program to calculate the factorial of a number provided by the user using a while loop\n",
        "a=int(input(\"enter an number : \"))\n",
        "fact=1\n",
        "for i in range(1,a+1):\n",
        "  fact=fact*i\n",
        "print(\"the factorial is\",fact)"
      ],
      "metadata": {
        "id": "feObM0J95vke"
      },
      "execution_count": null,
      "outputs": []
    },
    {
      "cell_type": "code",
      "source": [],
      "metadata": {
        "id": "1-UvAYD4Netc"
      },
      "execution_count": null,
      "outputs": []
    }
  ]
}